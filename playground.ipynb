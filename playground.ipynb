{
 "cells": [
  {
   "cell_type": "code",
   "execution_count": 1,
   "metadata": {},
   "outputs": [],
   "source": [
    "from pycode.instructor import Instructor\n",
    "\n",
    "inst = Instructor(0)"
   ]
  },
  {
   "cell_type": "code",
   "execution_count": 2,
   "metadata": {},
   "outputs": [
    {
     "name": "stdout",
     "output_type": "stream",
     "text": [
      "fish\n",
      "([], {})\n"
     ]
    }
   ],
   "source": [
    "print(inst.keyWord)\n",
    "print(inst.getState())"
   ]
  },
  {
   "cell_type": "code",
   "execution_count": 3,
   "metadata": {},
   "outputs": [
    {
     "name": "stdout",
     "output_type": "stream",
     "text": [
      "(['A'], {'A': 0})\n"
     ]
    }
   ],
   "source": [
    "# 오답 테스트\n",
    "inst.stepNext('A')\n",
    "print(inst.getState())"
   ]
  },
  {
   "cell_type": "code",
   "execution_count": 4,
   "metadata": {},
   "outputs": [
    {
     "name": "stdout",
     "output_type": "stream",
     "text": [
      "(['A', 'f'], {'A': 0, 'f': 1})\n"
     ]
    }
   ],
   "source": [
    "# 정답 테스트\n",
    "inst.stepNext(inst.keyWord[0])\n",
    "print(inst.getState())"
   ]
  },
  {
   "cell_type": "code",
   "execution_count": 5,
   "metadata": {},
   "outputs": [
    {
     "name": "stdout",
     "output_type": "stream",
     "text": [
      "(['A', 'f', 'i'], {'A': 0, 'f': 1, 'i': 1})\n",
      "(['A', 'f', 'i', 's'], {'A': 0, 'f': 1, 'i': 1, 's': 1})\n",
      "Game Ended\n",
      "(['A', 'f', 'i', 's', 'h'], {'A': 0, 'f': 1, 'i': 1, 's': 1, 'h': 1})\n"
     ]
    }
   ],
   "source": [
    "# 종료조건 테스트\n",
    "for i in range(1, len(inst.keyWord)):\n",
    "    inst.stepNext(inst.keyWord[i])\n",
    "    print(inst.getState())"
   ]
  },
  {
   "attachments": {},
   "cell_type": "markdown",
   "metadata": {},
   "source": [
    "------\n"
   ]
  },
  {
   "cell_type": "code",
   "execution_count": null,
   "metadata": {},
   "outputs": [],
   "source": []
  }
 ],
 "metadata": {
  "kernelspec": {
   "display_name": "base",
   "language": "python",
   "name": "python3"
  },
  "language_info": {
   "codemirror_mode": {
    "name": "ipython",
    "version": 3
   },
   "file_extension": ".py",
   "mimetype": "text/x-python",
   "name": "python",
   "nbconvert_exporter": "python",
   "pygments_lexer": "ipython3",
   "version": "3.9.13"
  },
  "orig_nbformat": 4,
  "vscode": {
   "interpreter": {
    "hash": "e8ba33f26cedddc900036f055cd8705d116f772d73d0ff255cca7b979414ed58"
   }
  }
 },
 "nbformat": 4,
 "nbformat_minor": 2
}
