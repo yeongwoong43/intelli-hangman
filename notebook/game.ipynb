{
 "cells": [
  {
   "cell_type": "code",
   "execution_count": 11,
   "metadata": {},
   "outputs": [],
   "source": [
    "import random\n",
    "import numpy as np\n",
    "import pandas as pd"
   ]
  },
  {
   "attachments": {},
   "cell_type": "markdown",
   "metadata": {},
   "source": [
    "* playGame(): 이 모듈의 main() 역할\n",
    "    \n",
    "    + selectWord(): 단어 선정\n",
    "\n",
    "    + while loop:\n",
    "    \n",
    "        - 답안 입력받고\n",
    "\n",
    "        - 결과 계산해서\n",
    "\n",
    "        - 리턴 해 줌\n",
    "\n",
    "        - 결과 돌아올때까지 대기"
   ]
  },
  {
   "cell_type": "code",
   "execution_count": 10,
   "metadata": {},
   "outputs": [],
   "source": [
    "# Define word dictionary\n",
    "df_word = '''ant bias cat dog elephant fish goat horse international jetcoaster kingmaker\n",
    "legal mist niece occupation proporsal quit restriction solve telephone unfortune vector\n",
    "worker xylophone you zero'''.split()\n",
    "\n",
    "MAX_LEN = 64"
   ]
  },
  {
   "cell_type": "code",
   "execution_count": 43,
   "metadata": {},
   "outputs": [],
   "source": [
    "def word_to_df(word):\n",
    "    df = pd.DataFrame(np.zeros((27, MAX_LEN)))\n",
    "    df.index = ['hash']+[chr(i) for i in range(97, 123)]\n",
    "    for i in range(len(word)):\n",
    "        df.loc['hash', i] = 1\n",
    "        df.loc[word[i], i] = 1\n",
    "    \n",
    "    return df"
   ]
  },
  {
   "cell_type": "code",
   "execution_count": 49,
   "metadata": {},
   "outputs": [],
   "source": [
    "def selectWord():\n",
    "    key = df_word[random.randint(1, len(df_word))]\n",
    "    df_key = word_to_df(key)\n",
    "    return df_key"
   ]
  },
  {
   "cell_type": "code",
   "execution_count": null,
   "metadata": {},
   "outputs": [],
   "source": [
    "STATE = "
   ]
  },
  {
   "cell_type": "code",
   "execution_count": 48,
   "metadata": {},
   "outputs": [
    {
     "data": {
      "text/plain": [
       "'horse'"
      ]
     },
     "execution_count": 48,
     "metadata": {},
     "output_type": "execute_result"
    }
   ],
   "source": [
    "def returnState():\n",
    "    "
   ]
  },
  {
   "cell_type": "code",
   "execution_count": 9,
   "metadata": {},
   "outputs": [
    {
     "data": {
      "text/plain": [
       "'niece'"
      ]
     },
     "execution_count": 9,
     "metadata": {},
     "output_type": "execute_result"
    }
   ],
   "source": [
    "def playGame():\n",
    "    "
   ]
  },
  {
   "cell_type": "code",
   "execution_count": 32,
   "metadata": {},
   "outputs": [
    {
     "data": {
      "text/plain": [
       "1"
      ]
     },
     "execution_count": 32,
     "metadata": {},
     "output_type": "execute_result"
    }
   ],
   "source": [
    "a = pd.DataFrame(np.zeros((27, 64)))\n",
    "a.index = ['hash']+[chr(i) for i in range(97, 123)]\n",
    "a[0] = [1]*27\n",
    "a[0].loc['a']"
   ]
  },
  {
   "cell_type": "code",
   "execution_count": null,
   "metadata": {},
   "outputs": [],
   "source": []
  }
 ],
 "metadata": {
  "kernelspec": {
   "display_name": "base",
   "language": "python",
   "name": "python3"
  },
  "language_info": {
   "codemirror_mode": {
    "name": "ipython",
    "version": 3
   },
   "file_extension": ".py",
   "mimetype": "text/x-python",
   "name": "python",
   "nbconvert_exporter": "python",
   "pygments_lexer": "ipython3",
   "version": "3.9.13"
  },
  "orig_nbformat": 4
 },
 "nbformat": 4,
 "nbformat_minor": 2
}
